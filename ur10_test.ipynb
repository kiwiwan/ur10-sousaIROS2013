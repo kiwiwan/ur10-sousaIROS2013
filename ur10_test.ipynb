{
 "cells": [
  {
   "cell_type": "code",
   "execution_count": 2,
   "metadata": {},
   "outputs": [],
   "source": [
    "datafolder = 'data/'\n",
    "tmpfolder = 'tmp/'"
   ]
  },
  {
   "cell_type": "code",
   "execution_count": 3,
   "metadata": {},
   "outputs": [
    {
     "name": "stdout",
     "output_type": "stream",
     "text": [
      "Populating the interactive namespace from numpy and matplotlib\n"
     ]
    }
   ],
   "source": [
    "from sympy import init_printing\n",
    "init_printing()\n",
    "\n",
    "%pylab inline"
   ]
  },
  {
   "cell_type": "code",
   "execution_count": 5,
   "metadata": {},
   "outputs": [],
   "source": [
    "import pickle\n",
    "with open(tmpfolder +  'robotmodels/ur10_model.pkl', 'rb' ) as file:\n",
    "          rbt = pickle.load( file )"
   ]
  },
  {
   "cell_type": "code",
   "execution_count": 6,
   "metadata": {},
   "outputs": [],
   "source": [
    "import yaml, sympy\n",
    "with open(datafolder + 'robotparams/ur10_cad.yml', 'r') as f:\n",
    "    ur10_cad = yaml.load(f)\n",
    "dynparm_test = sympy.Matrix([ur10_cad.get(str(d), d) for d in rbt.dyn.dynparms])\n"
   ]
  },
  {
   "cell_type": "code",
   "execution_count": 13,
   "metadata": {},
   "outputs": [],
   "source": [
    "import numpy as np\n",
    "\n",
    "q_test = [30*np.pi/180., 75*np.pi/180., 130*np.pi/180.,-50*np.pi/180., -160*np.pi/180., 80*np.pi/180.]\n",
    "dq_test = [30*np.pi/180., 75*np.pi/180., 130*np.pi/180.,-50*np.pi/180., -160*np.pi/180., 80*np.pi/180.]\n",
    "ddq_test = [30*np.pi/180., 75*np.pi/180., 130*np.pi/180.,-50*np.pi/180., -160*np.pi/180., 80*np.pi/180.]"
   ]
  },
  {
   "cell_type": "code",
   "execution_count": 14,
   "metadata": {},
   "outputs": [],
   "source": [
    "import sympybotics\n",
    "from sympybotics._compatibility_ import exec_\n",
    "\n",
    "tau_func_def = sympybotics.robotcodegen.robot_code_to_func(\n",
    "        'python', rbt.invdyn_code, 'tau', 'tau_ur10', rbt.rbtdef)\n",
    "\n",
    "l = locals()\n",
    "exec_(tau_func_def, globals(), l)\n",
    "\n",
    "tau_ur10 = l['tau_ur10']\n",
    "\n",
    "tau = tau_ur10(dynparm_test, q_test, dq_test, ddq_test)"
   ]
  },
  {
   "cell_type": "code",
   "execution_count": 15,
   "metadata": {},
   "outputs": [
    {
     "data": {
      "text/plain": [
       "[-3.58683021958768,\n",
       " -112.409213400702,\n",
       " 43.2909976436456,\n",
       " -2.82063116245518,\n",
       " -1.30971130395715,\n",
       " -0.0268583635517992]"
      ]
     },
     "execution_count": 15,
     "metadata": {},
     "output_type": "execute_result"
    }
   ],
   "source": [
    "tau"
   ]
  },
  {
   "cell_type": "code",
   "execution_count": 16,
   "metadata": {},
   "outputs": [],
   "source": [
    "q_num_subs = dict(zip(rbt.rbtdef.q, q_test))\n",
    "T = rbt.geo.T[-1]\n",
    "T = T.subs(q_num_subs)\n",
    "T = numpy.matrix(T).astype(numpy.float64)"
   ]
  },
  {
   "cell_type": "code",
   "execution_count": 17,
   "metadata": {},
   "outputs": [
    {
     "data": {
      "text/plain": [
       "matrix([[-0.20266781, -0.95831307,  0.20139964,  0.28158159],\n",
       "        [-0.18558934, -0.16435135, -0.96878544,  0.25211624],\n",
       "        [ 0.96150006, -0.23371925, -0.14454396, -0.35044055],\n",
       "        [ 0.        ,  0.        ,  0.        ,  1.        ]])"
      ]
     },
     "execution_count": 17,
     "metadata": {},
     "output_type": "execute_result"
    }
   ],
   "source": [
    "T"
   ]
  }
 ],
 "metadata": {
  "kernelspec": {
   "display_name": "Environment (conda_sousa)",
   "language": "python",
   "name": "conda_sousa"
  },
  "language_info": {
   "codemirror_mode": {
    "name": "ipython",
    "version": 2
   },
   "file_extension": ".py",
   "mimetype": "text/x-python",
   "name": "python",
   "nbconvert_exporter": "python",
   "pygments_lexer": "ipython2",
   "version": "2.7.15"
  }
 },
 "nbformat": 4,
 "nbformat_minor": 2
}
