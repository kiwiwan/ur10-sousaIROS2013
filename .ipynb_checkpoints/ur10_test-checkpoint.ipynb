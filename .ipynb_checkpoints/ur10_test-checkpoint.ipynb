{
 "cells": [
  {
   "cell_type": "code",
   "execution_count": 2,
   "metadata": {},
   "outputs": [],
   "source": [
    "datafolder = 'data/'\n",
    "tmpfolder = 'tmp/'"
   ]
  },
  {
   "cell_type": "code",
   "execution_count": 3,
   "metadata": {},
   "outputs": [
    {
     "name": "stdout",
     "output_type": "stream",
     "text": [
      "Populating the interactive namespace from numpy and matplotlib\n"
     ]
    }
   ],
   "source": [
    "from sympy import init_printing\n",
    "init_printing()\n",
    "\n",
    "%pylab inline"
   ]
  },
  {
   "cell_type": "code",
   "execution_count": 5,
   "metadata": {},
   "outputs": [],
   "source": [
    "import pickle\n",
    "with open(tmpfolder +  'robotmodels/ur10_model.pkl', 'rb' ) as file:\n",
    "          rbt = pickle.load( file )"
   ]
  },
  {
   "cell_type": "code",
   "execution_count": null,
   "metadata": {},
   "outputs": [],
   "source": [
    "import numpy as np\n",
    "\n",
    "q_test = [0., 0., 0., 0., 0., 0.]\n",
    "dq_test = [0., 0., 0., 0., 0., 0.]\n",
    "ddq_test = [0., 0., 0., 0., 0., 0.]\n",
    "\n",
    "\n",
    "\n"
   ]
  },
  {
   "cell_type": "code",
   "execution_count": null,
   "metadata": {},
   "outputs": [],
   "source": [
    "import sympybotics\n",
    "\n",
    "tau_func_def = sympybotics.robotcodegen.robot_code_to_func(\n",
    "        'python', rbt.dyn.invdyn_code, 'tau', 'tau_ur10', rbt.rbtdef)\n",
    "\n",
    "l = locals()\n",
    "exec_(tau_func_def, globals(), l)\n",
    "\n",
    "tau_ur10 = l['tau_ur10']\n",
    "\n",
    "tau = tau_puma560(dynparm_test, q_test, dq_test, ddq_test)"
   ]
  },
  {
   "cell_type": "code",
   "execution_count": null,
   "metadata": {},
   "outputs": [],
   "source": []
  },
  {
   "cell_type": "code",
   "execution_count": null,
   "metadata": {},
   "outputs": [],
   "source": []
  }
 ],
 "metadata": {
  "kernelspec": {
   "display_name": "Environment (conda_sousa)",
   "language": "python",
   "name": "conda_sousa"
  },
  "language_info": {
   "codemirror_mode": {
    "name": "ipython",
    "version": 2
   },
   "file_extension": ".py",
   "mimetype": "text/x-python",
   "name": "python",
   "nbconvert_exporter": "python",
   "pygments_lexer": "ipython2",
   "version": "2.7.15"
  }
 },
 "nbformat": 4,
 "nbformat_minor": 2
}
